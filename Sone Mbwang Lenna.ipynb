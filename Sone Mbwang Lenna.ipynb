{
 "cells": [
  {
   "cell_type": "code",
   "execution_count": 124,
   "id": "af83fdff-86e8-478a-8c03-05a1a1c9f7c0",
   "metadata": {},
   "outputs": [],
   "source": [
    "import pandas as pd\n",
    "import numpy as np\n",
    "import matplotlib.pyplot as plt\n",
    "import seaborn as sns\n",
    "from datetime import datetime\n",
    "import warnings\n",
    "warnings.filterwarnings('ignore')\n"
   ]
  },
  {
   "cell_type": "code",
   "execution_count": 125,
   "id": "367dccea-8c3c-4cd5-b472-6823dbce7bf3",
   "metadata": {},
   "outputs": [],
   "source": [
    "# Load individual CSV files\n",
    "orders_df = pd.read_csv(r\"C:\\Users\\hp\\Downloads\\Pizza+Place+Sales\\pizza_sales\\orders.csv\")\n",
    "order_details_df = pd.read_csv(r\"C:\\Users\\hp\\Downloads\\Pizza+Place+Sales\\pizza_sales\\order_details.csv\") \n",
    "pizzas_df = pd.read_csv(r\"C:\\Users\\hp\\Downloads\\Pizza+Place+Sales\\pizza_sales\\pizzas.csv\")\n",
    "pizza_types_df = pd.read_csv(r\"C:\\Users\\hp\\Downloads\\Pizza+Place+Sales\\pizza_sales\\pizza_types.csv\", encoding='latin-1')\n",
    "   "
   ]
  },
  {
   "cell_type": "code",
   "execution_count": 126,
   "id": "3997d823-541a-4f4c-bb12-ab6cd946bab6",
   "metadata": {},
   "outputs": [],
   "source": [
    "# Convert date and time columns\n",
    "orders_df['date'] = pd.to_datetime(orders_df['date'])\n",
    "# Convert to proper time objects\n",
    "orders_df['time'] = pd.to_datetime(orders_df['time'], format='%H:%M:%S').dt.time"
   ]
  },
  {
   "cell_type": "code",
   "execution_count": 127,
   "id": "0ee505b0-7ac7-45c0-8d91-bc7f15db6b81",
   "metadata": {},
   "outputs": [
    {
     "name": "stdout",
     "output_type": "stream",
     "text": [
      "<class 'pandas.core.frame.DataFrame'>\n",
      "RangeIndex: 21350 entries, 0 to 21349\n",
      "Data columns (total 3 columns):\n",
      " #   Column    Non-Null Count  Dtype         \n",
      "---  ------    --------------  -----         \n",
      " 0   order_id  21350 non-null  int64         \n",
      " 1   date      21350 non-null  datetime64[ns]\n",
      " 2   time      21350 non-null  object        \n",
      "dtypes: datetime64[ns](1), int64(1), object(1)\n",
      "memory usage: 500.5+ KB\n"
     ]
    }
   ],
   "source": [
    "orders_df.info()"
   ]
  },
  {
   "cell_type": "code",
   "execution_count": 128,
   "id": "dde55e13-eb65-4ae7-b1ae-f041f218e365",
   "metadata": {},
   "outputs": [
    {
     "name": "stdout",
     "output_type": "stream",
     "text": [
      "<class 'pandas.core.frame.DataFrame'>\n",
      "RangeIndex: 48620 entries, 0 to 48619\n",
      "Data columns (total 4 columns):\n",
      " #   Column            Non-Null Count  Dtype \n",
      "---  ------            --------------  ----- \n",
      " 0   order_details_id  48620 non-null  int64 \n",
      " 1   order_id          48620 non-null  int64 \n",
      " 2   pizza_id          48620 non-null  object\n",
      " 3   quantity          48620 non-null  int64 \n",
      "dtypes: int64(3), object(1)\n",
      "memory usage: 1.5+ MB\n"
     ]
    }
   ],
   "source": [
    "order_details_df.info()"
   ]
  },
  {
   "cell_type": "code",
   "execution_count": 129,
   "id": "ebed41c8-a47a-4e56-8b33-08a6c27c684c",
   "metadata": {},
   "outputs": [
    {
     "data": {
      "text/plain": [
       "order_details_id    0\n",
       "order_id            0\n",
       "pizza_id            0\n",
       "quantity            0\n",
       "dtype: int64"
      ]
     },
     "execution_count": 129,
     "metadata": {},
     "output_type": "execute_result"
    }
   ],
   "source": [
    "order_details_df.isna().sum()"
   ]
  },
  {
   "cell_type": "code",
   "execution_count": 130,
   "id": "0f49b924-7e75-40f5-a989-ae9d9c05672b",
   "metadata": {},
   "outputs": [
    {
     "data": {
      "text/plain": [
       "order_id    0\n",
       "date        0\n",
       "time        0\n",
       "dtype: int64"
      ]
     },
     "execution_count": 130,
     "metadata": {},
     "output_type": "execute_result"
    }
   ],
   "source": [
    "orders_df.isna().sum()"
   ]
  },
  {
   "cell_type": "code",
   "execution_count": 131,
   "id": "9dbdd991-d251-46bc-89b7-d57e16b4a02f",
   "metadata": {},
   "outputs": [
    {
     "data": {
      "text/plain": [
       "pizza_id         0\n",
       "pizza_type_id    0\n",
       "size             0\n",
       "price            0\n",
       "dtype: int64"
      ]
     },
     "execution_count": 131,
     "metadata": {},
     "output_type": "execute_result"
    }
   ],
   "source": [
    "pizzas_df.isna().sum()"
   ]
  },
  {
   "cell_type": "code",
   "execution_count": 132,
   "id": "df757f0c-500d-443c-a31d-a88fe9fbdf61",
   "metadata": {},
   "outputs": [
    {
     "data": {
      "text/plain": [
       "pizza_type_id    0\n",
       "name             0\n",
       "category         0\n",
       "ingredients      0\n",
       "dtype: int64"
      ]
     },
     "execution_count": 132,
     "metadata": {},
     "output_type": "execute_result"
    }
   ],
   "source": [
    "pizza_types_df.isna().sum()"
   ]
  },
  {
   "cell_type": "code",
   "execution_count": 133,
   "id": "00c583fc-2bfc-4419-8954-5f48070529f4",
   "metadata": {
    "scrolled": true
   },
   "outputs": [
    {
     "name": "stdout",
     "output_type": "stream",
     "text": [
      " Joining datasets\n"
     ]
    },
    {
     "data": {
      "text/html": [
       "<div>\n",
       "<style scoped>\n",
       "    .dataframe tbody tr th:only-of-type {\n",
       "        vertical-align: middle;\n",
       "    }\n",
       "\n",
       "    .dataframe tbody tr th {\n",
       "        vertical-align: top;\n",
       "    }\n",
       "\n",
       "    .dataframe thead th {\n",
       "        text-align: right;\n",
       "    }\n",
       "</style>\n",
       "<table border=\"1\" class=\"dataframe\">\n",
       "  <thead>\n",
       "    <tr style=\"text-align: right;\">\n",
       "      <th></th>\n",
       "      <th>order_details_id</th>\n",
       "      <th>order_id</th>\n",
       "      <th>pizza_id</th>\n",
       "      <th>quantity</th>\n",
       "      <th>date</th>\n",
       "      <th>time</th>\n",
       "      <th>pizza_type_id</th>\n",
       "      <th>size</th>\n",
       "      <th>price</th>\n",
       "      <th>name</th>\n",
       "      <th>category</th>\n",
       "      <th>ingredients</th>\n",
       "    </tr>\n",
       "  </thead>\n",
       "  <tbody>\n",
       "    <tr>\n",
       "      <th>0</th>\n",
       "      <td>1</td>\n",
       "      <td>1</td>\n",
       "      <td>hawaiian_m</td>\n",
       "      <td>1</td>\n",
       "      <td>2015-01-01</td>\n",
       "      <td>11:38:36</td>\n",
       "      <td>hawaiian</td>\n",
       "      <td>M</td>\n",
       "      <td>13.25</td>\n",
       "      <td>The Hawaiian Pizza</td>\n",
       "      <td>Classic</td>\n",
       "      <td>Sliced Ham, Pineapple, Mozzarella Cheese</td>\n",
       "    </tr>\n",
       "    <tr>\n",
       "      <th>1</th>\n",
       "      <td>2</td>\n",
       "      <td>2</td>\n",
       "      <td>classic_dlx_m</td>\n",
       "      <td>1</td>\n",
       "      <td>2015-01-01</td>\n",
       "      <td>11:57:40</td>\n",
       "      <td>classic_dlx</td>\n",
       "      <td>M</td>\n",
       "      <td>16.00</td>\n",
       "      <td>The Classic Deluxe Pizza</td>\n",
       "      <td>Classic</td>\n",
       "      <td>Pepperoni, Mushrooms, Red Onions, Red Peppers,...</td>\n",
       "    </tr>\n",
       "    <tr>\n",
       "      <th>2</th>\n",
       "      <td>3</td>\n",
       "      <td>2</td>\n",
       "      <td>five_cheese_l</td>\n",
       "      <td>1</td>\n",
       "      <td>2015-01-01</td>\n",
       "      <td>11:57:40</td>\n",
       "      <td>five_cheese</td>\n",
       "      <td>L</td>\n",
       "      <td>18.50</td>\n",
       "      <td>The Five Cheese Pizza</td>\n",
       "      <td>Veggie</td>\n",
       "      <td>Mozzarella Cheese, Provolone Cheese, Smoked Go...</td>\n",
       "    </tr>\n",
       "    <tr>\n",
       "      <th>3</th>\n",
       "      <td>4</td>\n",
       "      <td>2</td>\n",
       "      <td>ital_supr_l</td>\n",
       "      <td>1</td>\n",
       "      <td>2015-01-01</td>\n",
       "      <td>11:57:40</td>\n",
       "      <td>ital_supr</td>\n",
       "      <td>L</td>\n",
       "      <td>20.75</td>\n",
       "      <td>The Italian Supreme Pizza</td>\n",
       "      <td>Supreme</td>\n",
       "      <td>Calabrese Salami, Capocollo, Tomatoes, Red Oni...</td>\n",
       "    </tr>\n",
       "    <tr>\n",
       "      <th>4</th>\n",
       "      <td>5</td>\n",
       "      <td>2</td>\n",
       "      <td>mexicana_m</td>\n",
       "      <td>1</td>\n",
       "      <td>2015-01-01</td>\n",
       "      <td>11:57:40</td>\n",
       "      <td>mexicana</td>\n",
       "      <td>M</td>\n",
       "      <td>16.00</td>\n",
       "      <td>The Mexicana Pizza</td>\n",
       "      <td>Veggie</td>\n",
       "      <td>Tomatoes, Red Peppers, Jalapeno Peppers, Red O...</td>\n",
       "    </tr>\n",
       "  </tbody>\n",
       "</table>\n",
       "</div>"
      ],
      "text/plain": [
       "   order_details_id  order_id       pizza_id  quantity       date      time  \\\n",
       "0                 1         1     hawaiian_m         1 2015-01-01  11:38:36   \n",
       "1                 2         2  classic_dlx_m         1 2015-01-01  11:57:40   \n",
       "2                 3         2  five_cheese_l         1 2015-01-01  11:57:40   \n",
       "3                 4         2    ital_supr_l         1 2015-01-01  11:57:40   \n",
       "4                 5         2     mexicana_m         1 2015-01-01  11:57:40   \n",
       "\n",
       "  pizza_type_id size  price                       name category  \\\n",
       "0      hawaiian    M  13.25         The Hawaiian Pizza  Classic   \n",
       "1   classic_dlx    M  16.00   The Classic Deluxe Pizza  Classic   \n",
       "2   five_cheese    L  18.50      The Five Cheese Pizza   Veggie   \n",
       "3     ital_supr    L  20.75  The Italian Supreme Pizza  Supreme   \n",
       "4      mexicana    M  16.00         The Mexicana Pizza   Veggie   \n",
       "\n",
       "                                         ingredients  \n",
       "0           Sliced Ham, Pineapple, Mozzarella Cheese  \n",
       "1  Pepperoni, Mushrooms, Red Onions, Red Peppers,...  \n",
       "2  Mozzarella Cheese, Provolone Cheese, Smoked Go...  \n",
       "3  Calabrese Salami, Capocollo, Tomatoes, Red Oni...  \n",
       "4  Tomatoes, Red Peppers, Jalapeno Peppers, Red O...  "
      ]
     },
     "execution_count": 133,
     "metadata": {},
     "output_type": "execute_result"
    }
   ],
   "source": [
    " #Join all datasets into a single DataFrame\n",
    "print(\" Joining datasets\")\n",
    "\n",
    "# Start with order_details and join with orders\n",
    "merged_df = order_details_df.merge(orders_df, on='order_id', how='left')\n",
    "\n",
    "# Join with pizzas to get price information\n",
    "merged_df = merged_df.merge(pizzas_df, on='pizza_id', how='left')\n",
    "\n",
    "# Join with pizza_types to get pizza names and details\n",
    "merged_df = merged_df.merge(pizza_types_df, on='pizza_type_id', how='left')\n",
    "\n",
    "merged_df.head()"
   ]
  },
  {
   "cell_type": "code",
   "execution_count": 134,
   "id": "91791105-4398-43c5-805b-e46ac607d398",
   "metadata": {},
   "outputs": [
    {
     "data": {
      "text/plain": [
       "order_details_id    0\n",
       "order_id            0\n",
       "pizza_id            0\n",
       "quantity            0\n",
       "date                0\n",
       "time                0\n",
       "pizza_type_id       0\n",
       "size                0\n",
       "price               0\n",
       "name                0\n",
       "category            0\n",
       "ingredients         0\n",
       "dtype: int64"
      ]
     },
     "execution_count": 134,
     "metadata": {},
     "output_type": "execute_result"
    }
   ],
   "source": [
    "merged_df.isna().sum()"
   ]
  },
  {
   "cell_type": "code",
   "execution_count": 135,
   "id": "d7a72a58-8869-4fa2-ab95-4a0e0456a45a",
   "metadata": {},
   "outputs": [
    {
     "data": {
      "text/plain": [
       "np.float64(801944.7000000001)"
      ]
     },
     "execution_count": 135,
     "metadata": {},
     "output_type": "execute_result"
    }
   ],
   "source": [
    "#1 total revenue\n",
    "total_revenue = merged_df['price'].sum()\n",
    "total_revenue"
   ]
  },
  {
   "cell_type": "code",
   "execution_count": 136,
   "id": "fe8e5473-5283-4024-b376-33038e43d5ad",
   "metadata": {},
   "outputs": [
    {
     "data": {
      "text/plain": [
       "np.int64(49574)"
      ]
     },
     "execution_count": 136,
     "metadata": {},
     "output_type": "execute_result"
    }
   ],
   "source": [
    "#2 total quantity sold\n",
    "total_quantity = merged_df['quantity'].sum()\n",
    "total_quantity"
   ]
  },
  {
   "cell_type": "code",
   "execution_count": 137,
   "id": "91f0508c-55a5-4dcf-b0b0-605407c3c340",
   "metadata": {},
   "outputs": [
    {
     "data": {
      "text/plain": [
       "21350"
      ]
     },
     "execution_count": 137,
     "metadata": {},
     "output_type": "execute_result"
    }
   ],
   "source": [
    "#3 total Orders\n",
    "total_orders = merged_df['order_id'].nunique()\n",
    "total_orders"
   ]
  },
  {
   "cell_type": "code",
   "execution_count": 138,
   "id": "6b7c417a-69ce-41a0-af06-dcbaf90b4406",
   "metadata": {},
   "outputs": [
    {
     "data": {
      "text/plain": [
       "32"
      ]
     },
     "execution_count": 138,
     "metadata": {},
     "output_type": "execute_result"
    }
   ],
   "source": [
    "#4 number of pizza types\n",
    "pizza_types_count = merged_df['pizza_type_id'].nunique()\n",
    "pizza_types_count "
   ]
  },
  {
   "cell_type": "code",
   "execution_count": 139,
   "id": "d4e88a5a-6153-4137-8d98-af25a5947bca",
   "metadata": {},
   "outputs": [
    {
     "data": {
      "text/plain": [
       "np.float64(16.494132044426163)"
      ]
     },
     "execution_count": 139,
     "metadata": {},
     "output_type": "execute_result"
    }
   ],
   "source": [
    "#5 average price for pizza\n",
    "avg_price = merged_df['price'].mean()\n",
    "avg_price "
   ]
  },
  {
   "cell_type": "code",
   "execution_count": 140,
   "id": "4acb8a1e-06e3-4adf-a5e2-e5de545346c6",
   "metadata": {},
   "outputs": [
    {
     "name": "stdout",
     "output_type": "stream",
     "text": [
      "   Daily Sales Ranking:\n",
      "   • Friday   : $133,774 (3538 orders)\n",
      "   • Thursday : $120,912 (3239 orders)\n",
      "   • Saturday : $120,865 (3158 orders)\n",
      "   • Wednesday: $112,006 (3024 orders)\n",
      "   • Tuesday  : $111,765 (2973 orders)\n",
      "   • Monday   : $105,357 (2794 orders)\n",
      "   • Sunday   : $ 97,265 (2624 orders)\n"
     ]
    },
    {
     "data": {
      "text/plain": [
       "'Friday'"
      ]
     },
     "execution_count": 140,
     "metadata": {},
     "output_type": "execute_result"
    }
   ],
   "source": [
    "#7\n",
    "merged_df['day_of_week'] = merged_df['date'].dt.day_name()\n",
    "merged_df['day_num'] = merged_df['date'].dt.dayofweek\n",
    "\n",
    "daily_sales = merged_df.groupby(['day_num', 'day_of_week']).agg({\n",
    "    'price': 'sum',\n",
    "    'quantity': 'sum', \n",
    "    'order_id': 'nunique'\n",
    "}).reset_index()\n",
    "\n",
    "daily_sales = daily_sales.sort_values('price', ascending=False)\n",
    "\n",
    "print(\"   Daily Sales Ranking:\")\n",
    "for i, row in daily_sales.iterrows():\n",
    "    print(f\"   • {row['day_of_week']:9s}: ${row['price']:7,.0f} ({row['order_id']:3d} orders)\")\n",
    "\n",
    "best_day = daily_sales.iloc[0]['day_of_week']\n",
    "best_day"
   ]
  },
  {
   "cell_type": "code",
   "execution_count": 141,
   "id": "27ad4805-0bea-4224-8bb1-f5fbfe920547",
   "metadata": {},
   "outputs": [
    {
     "name": "stdout",
     "output_type": "stream",
     "text": [
      " Peak sales hour: 12:00 ($108,047.75)\n"
     ]
    }
   ],
   "source": [
    "#6 peak hours of sales\n",
    "merged_df['hour'] = pd.to_datetime(merged_df['time'], format='%H:%M:%S').dt.hour\n",
    "hourly_sales = merged_df.groupby('hour')['price'].sum().reset_index()\n",
    "\n",
    "peak_hour_sales = hourly_sales.loc[hourly_sales['price'].idxmax(), 'hour']\n",
    "print(f\" Peak sales hour: {peak_hour_sales}:00 (${hourly_sales['price'].max():,.2f})\")"
   ]
  },
  {
   "cell_type": "code",
   "execution_count": 142,
   "id": "d657ffa1-a8a2-4944-a680-b38b0b357a99",
   "metadata": {},
   "outputs": [
    {
     "name": "stdout",
     "output_type": "stream",
     "text": [
      "   Monthly Sales:\n",
      " January: $68,472.70\n",
      " February: $64,067.40\n",
      " March: $69,198.00\n",
      " April: $67,286.20\n",
      " May: $69,939.35\n",
      " June: $66,796.30\n",
      " July: $71,027.45\n",
      " August: $67,068.80\n",
      " September: $63,018.00\n",
      " October: $62,566.50\n",
      " November: $69,054.00\n",
      " December: $63,450.00\n",
      "\n",
      "  Highest sales: July\n",
      "\n",
      "  Lowest sales: October\n"
     ]
    }
   ],
   "source": [
    "#9 sales made in each month\n",
    "merged_df['month'] = merged_df['date'].dt.month\n",
    "merged_df['month_name'] = merged_df['date'].dt.month_name()\n",
    "monthly_sales = merged_df.groupby(['month', 'month_name'])['price'].sum().reset_index()\n",
    "monthly_sales = monthly_sales.sort_values('month')\n",
    "print(\"   Monthly Sales:\")\n",
    "for _, row in monthly_sales.iterrows():\n",
    "    \n",
    "    print(f\" {row['month_name']}: ${row['price']:,.2f}\")\n",
    "\n",
    "# Identify trend\n",
    "max_month = monthly_sales.loc[monthly_sales['price'].idxmax(), 'month_name']\n",
    "min_month = monthly_sales.loc[monthly_sales['price'].idxmin(), 'month_name']\n",
    "print(f\"\\n  Highest sales: {max_month}\")\n",
    "print(f\"\\n  Lowest sales: {min_month}\")\n"
   ]
  },
  {
   "cell_type": "code",
   "execution_count": 143,
   "id": "09afa62b-e9dc-4d37-a8ab-aa52bb2d344c",
   "metadata": {},
   "outputs": [
    {
     "name": "stdout",
     "output_type": "stream",
     "text": [
      "Lowest Quantities Sold\n"
     ]
    },
    {
     "data": {
      "text/html": [
       "<div>\n",
       "<style scoped>\n",
       "    .dataframe tbody tr th:only-of-type {\n",
       "        vertical-align: middle;\n",
       "    }\n",
       "\n",
       "    .dataframe tbody tr th {\n",
       "        vertical-align: top;\n",
       "    }\n",
       "\n",
       "    .dataframe thead th {\n",
       "        text-align: right;\n",
       "    }\n",
       "</style>\n",
       "<table border=\"1\" class=\"dataframe\">\n",
       "  <thead>\n",
       "    <tr style=\"text-align: right;\">\n",
       "      <th></th>\n",
       "      <th>name</th>\n",
       "      <th>total_quantity</th>\n",
       "      <th>total_revenue</th>\n",
       "      <th>unique_orders</th>\n",
       "      <th>avg_price</th>\n",
       "    </tr>\n",
       "  </thead>\n",
       "  <tbody>\n",
       "    <tr>\n",
       "      <th>2</th>\n",
       "      <td>The Brie Carre Pizza</td>\n",
       "      <td>490</td>\n",
       "      <td>11352.00</td>\n",
       "      <td>480</td>\n",
       "      <td>23.167347</td>\n",
       "    </tr>\n",
       "    <tr>\n",
       "      <th>16</th>\n",
       "      <td>The Mediterranean Pizza</td>\n",
       "      <td>934</td>\n",
       "      <td>15163.00</td>\n",
       "      <td>912</td>\n",
       "      <td>16.234475</td>\n",
       "    </tr>\n",
       "    <tr>\n",
       "      <th>3</th>\n",
       "      <td>The Calabrese Pizza</td>\n",
       "      <td>937</td>\n",
       "      <td>15763.75</td>\n",
       "      <td>918</td>\n",
       "      <td>16.823639</td>\n",
       "    </tr>\n",
       "    <tr>\n",
       "      <th>28</th>\n",
       "      <td>The Spinach Supreme Pizza</td>\n",
       "      <td>950</td>\n",
       "      <td>15124.00</td>\n",
       "      <td>918</td>\n",
       "      <td>15.920000</td>\n",
       "    </tr>\n",
       "    <tr>\n",
       "      <th>24</th>\n",
       "      <td>The Soppressata Pizza</td>\n",
       "      <td>961</td>\n",
       "      <td>16342.75</td>\n",
       "      <td>941</td>\n",
       "      <td>17.005983</td>\n",
       "    </tr>\n",
       "  </tbody>\n",
       "</table>\n",
       "</div>"
      ],
      "text/plain": [
       "                         name  total_quantity  total_revenue  unique_orders  \\\n",
       "2        The Brie Carre Pizza             490       11352.00            480   \n",
       "16    The Mediterranean Pizza             934       15163.00            912   \n",
       "3         The Calabrese Pizza             937       15763.75            918   \n",
       "28  The Spinach Supreme Pizza             950       15124.00            918   \n",
       "24      The Soppressata Pizza             961       16342.75            941   \n",
       "\n",
       "    avg_price  \n",
       "2   23.167347  \n",
       "16  16.234475  \n",
       "3   16.823639  \n",
       "28  15.920000  \n",
       "24  17.005983  "
      ]
     },
     "execution_count": 143,
     "metadata": {},
     "output_type": "execute_result"
    }
   ],
   "source": [
    "#10\n",
    "pizza_performance = merged_df.groupby('name').agg({\n",
    "    'quantity': 'sum',\n",
    "    'price': 'sum',\n",
    "    'order_id': 'nunique'\n",
    "}).reset_index()\n",
    "\n",
    "pizza_performance.columns = ['name', 'total_quantity', 'total_revenue', 'unique_orders']\n",
    "pizza_performance['avg_price'] = pizza_performance['total_revenue'] / pizza_performance['total_quantity']\n",
    "\n",
    "# Sort by quantity (performance metr\n",
    "pizza_performance_sorted = pizza_performance.sort_values('total_quantity')\n",
    "\n",
    "print(\"Lowest Quantities Sold\")\n",
    "bottom_5 = pizza_performance_sorted.head()\n",
    "bottom_5 \n"
   ]
  },
  {
   "cell_type": "code",
   "execution_count": null,
   "id": "3fc10116-b924-44e4-b48b-4300368470c5",
   "metadata": {},
   "outputs": [],
   "source": []
  }
 ],
 "metadata": {
  "kernelspec": {
   "display_name": "Python [conda env:base] *",
   "language": "python",
   "name": "conda-base-py"
  },
  "language_info": {
   "codemirror_mode": {
    "name": "ipython",
    "version": 3
   },
   "file_extension": ".py",
   "mimetype": "text/x-python",
   "name": "python",
   "nbconvert_exporter": "python",
   "pygments_lexer": "ipython3",
   "version": "3.13.5"
  }
 },
 "nbformat": 4,
 "nbformat_minor": 5
}
